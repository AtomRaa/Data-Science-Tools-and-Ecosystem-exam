{
 "cells": [
  {
   "cell_type": "markdown",
   "id": "453dc6bc-f89f-4db4-b815-6347b6a298fc",
   "metadata": {},
   "source": [
    "# Data Science Tools and Ecosystem"
   ]
  },
  {
   "cell_type": "markdown",
   "id": "d828a809-974f-4fd3-b347-a8f748dfbe87",
   "metadata": {},
   "source": [
    "In this notebook, Data Science Tools and Ecosystem are summarized."
   ]
  },
  {
   "cell_type": "markdown",
   "id": "a890cd50-d35b-4c67-a605-070c837c6384",
   "metadata": {},
   "source": [
    "**Objectives:**\n",
    "* learning different tools in data science\n",
    "* knowing the pros and cons of working on a clould development environment\n",
    "* getting more knowledge about machine learing tools"
   ]
  },
  {
   "cell_type": "markdown",
   "id": "966b7625-5212-4754-abb3-6e593a52deb0",
   "metadata": {},
   "source": [
    "Some of the popular languages that Data Scientists use are:\r",
    "1- python\n",
    "2- R\n",
    "3- SQL\n"
   ]
  },
  {
   "cell_type": "markdown",
   "id": "c7bf79b6-330a-48dd-99af-baed258f249a",
   "metadata": {},
   "source": [
    "Some of the commonly used libraries used by Data Scientists include:\n",
    "1- Numpy \n",
    "2- Pandas\n",
    "3- tensorflow"
   ]
  },
  {
   "cell_type": "markdown",
   "id": "0ea6be5a-34c7-4f93-a918-d4ce3c5f2a30",
   "metadata": {},
   "source": [
    "| Data Science Tools |\n",
    "|--- |\n",
    "| jupyter notebook |\n",
    "| Rstudio |\n",
    "| VS code |"
   ]
  },
  {
   "cell_type": "markdown",
   "id": "142ed701-4f40-4ee8-b3d6-9f539b8184a8",
   "metadata": {},
   "source": [
    "### Below are a few examples of evaluating arithmetic expressions in Python"
   ]
  },
  {
   "cell_type": "code",
   "execution_count": 1,
   "id": "e4546fbc-0845-42e2-8918-809b00b8015c",
   "metadata": {},
   "outputs": [
    {
     "data": {
      "text/plain": [
       "17"
      ]
     },
     "execution_count": 1,
     "metadata": {},
     "output_type": "execute_result"
    }
   ],
   "source": [
    " # This a simple arithmetic expression to mutiply then add integers\n",
    "(3*4)+5"
   ]
  },
  {
   "cell_type": "code",
   "execution_count": 2,
   "id": "4bf50f26-34cb-4157-ab59-cad04884591f",
   "metadata": {},
   "outputs": [
    {
     "data": {
      "text/plain": [
       "3.3333333333333335"
      ]
     },
     "execution_count": 2,
     "metadata": {},
     "output_type": "execute_result"
    }
   ],
   "source": [
    "# This will convert 200 minutes to hours by diving by 60\n",
    "200 / 60"
   ]
  },
  {
   "cell_type": "markdown",
   "id": "7c14f467-9856-4d50-9a5b-a3a6caac1140",
   "metadata": {},
   "source": [
    "## Author\n",
    "mohamed"
   ]
  }
 ],
 "metadata": {
  "kernelspec": {
   "display_name": "Python 3 (ipykernel)",
   "language": "python",
   "name": "python3"
  },
  "language_info": {
   "codemirror_mode": {
    "name": "ipython",
    "version": 3
   },
   "file_extension": ".py",
   "mimetype": "text/x-python",
   "name": "python",
   "nbconvert_exporter": "python",
   "pygments_lexer": "ipython3",
   "version": "3.11.7"
  }
 },
 "nbformat": 4,
 "nbformat_minor": 5
}
